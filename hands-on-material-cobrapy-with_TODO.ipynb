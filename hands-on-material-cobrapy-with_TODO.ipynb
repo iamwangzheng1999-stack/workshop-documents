{
 "cells": [
  {
   "cell_type": "markdown",
   "id": "40453786",
   "metadata": {},
   "source": [
    "# Introduction to flux analysis at a genome-scale using Cobrapy\n",
    "In this tutorial, you'll learn how to:\n",
    "1. Load and explore metabolic models\n",
    "2. Run Flux Balance Analysis (FBA)\n",
    "3. Perform Flux Variability Analysis (FVA)\n",
    "4. Add custom constraints (like flux ratios)\n",
    "5. Compare conditions and visualize flux changes\n",
    "\n",
    "A Cobrapy documentation can be found here:\n",
    "https://cobrapy.readthedocs.io/en/latest/\n",
    "\n",
    "Contact: Dr. Anika Küken (ankueken@uni-potsdam.de), Bioinformatics Department, University of Potsdam"
   ]
  },
  {
   "cell_type": "markdown",
   "id": "66d3b288",
   "metadata": {},
   "source": [
    "## Part 1: Load and inspect a model \n",
    "\n",
    "In this part we are gonna use a genome-scale metabolic model of Arabidopsis thaliana (AraCore).\n",
    "Store the model in your current working folder.\n",
    "\n",
    "Further information you can find from its original publication: \\\n",
    "https://academic.oup.com/plphys/article/165/3/1380/6113226?login=true"
   ]
  },
  {
   "cell_type": "code",
   "execution_count": null,
   "id": "6cd05681",
   "metadata": {},
   "outputs": [],
   "source": [
    "import cobra\n",
    "from cobra.io import read_sbml_model\n",
    "\n",
    "# Load the Arabidopsis core model (AraCore.xml)\n",
    "model = read_sbml_model('AraCore.xml')"
   ]
  },
  {
   "cell_type": "markdown",
   "id": "a2bbf71e",
   "metadata": {},
   "source": [
    "A model object usually has the following attributes that you can asses by model.attr_name \n",
    "\n",
    "| **Attribute**   | **Type**                     | **Description** |\n",
    "|-----------------|------------------------------|-----------------|\n",
    "| `id`            | `str`                        | Model ID |\n",
    "| `name`          | `str`                        | Human-readable name |\n",
    "| `reactions`     | `ReactionList`               | All reactions in the model |\n",
    "| `metabolites`   | `MetaboliteList`             | All metabolites in the model |\n",
    "| `genes`         | `GeneList`                   | All associated genes |\n",
    "| `objective`     | `cobra.Objective`            | Objective function (e.g., biomass reaction) |\n",
    "| `compartments`  | `dict`                       | Mapping of compartment IDs to names |\n",
    "| `notes`         | `dict`                       | Free-form notes and metadata |\n",
    "| `annotation`    | `dict`                       | External database identifiers (KEGG, BiGG, etc.) |\n"
   ]
  },
  {
   "cell_type": "markdown",
   "id": "e21f8190",
   "metadata": {},
   "source": [
    "### Inspecting the model numbers"
   ]
  },
  {
   "cell_type": "code",
   "execution_count": null,
   "id": "7ba462b2",
   "metadata": {},
   "outputs": [],
   "source": [
    "# 💡 Explanation: Add your code comments below for clarity.\n",
    "from cobra.util.array import create_stoichiometric_matrix\n",
    "\n",
    "S = create_stoichiometric_matrix(model)"
   ]
  },
  {
   "cell_type": "markdown",
   "id": "2b3cdecf",
   "metadata": {},
   "source": [
    "### Task 1.1: How many metabolites, reactions and genes are contained in the model?\n",
    "\n",
    "Inspect the number of rows and columns in the stoichiometric matrix and compare to size of model attributes\n",
    "- reactions\n",
    "- metabolites\n",
    "- genes"
   ]
  },
  {
   "cell_type": "code",
   "execution_count": null,
   "id": "d33b7bc8",
   "metadata": {},
   "outputs": [],
   "source": [
    "# TODO\n",
    "# add your code here\n"
   ]
  },
  {
   "cell_type": "code",
   "execution_count": null,
   "id": "577af97d",
   "metadata": {},
   "outputs": [],
   "source": [
    "# Where can we find information about gene reaction association?\n",
    "model.reactions.RBC_h.gpr"
   ]
  },
  {
   "cell_type": "markdown",
   "id": "8f934fca",
   "metadata": {},
   "source": [
    "### Reaction boundaries"
   ]
  },
  {
   "cell_type": "markdown",
   "id": "3f5e413f",
   "metadata": {},
   "source": [
    "### Reversible reactions in stoichiometric models\n",
    "\n",
    "              A  B\n",
    "A -> B: S = [-1  1]'  \n",
    "\n",
    "B -> A: S = [ 1 -1]'"
   ]
  },
  {
   "cell_type": "code",
   "execution_count": null,
   "id": "639a0c47",
   "metadata": {},
   "outputs": [],
   "source": [
    "# Inspecting the model exchange fluxes\n",
    "model.boundary\n",
    "[reaction.bounds for reaction in model.boundary]"
   ]
  },
  {
   "cell_type": "code",
   "execution_count": null,
   "id": "8218b167",
   "metadata": {},
   "outputs": [],
   "source": [
    "model.boundary[1]"
   ]
  },
  {
   "cell_type": "code",
   "execution_count": null,
   "id": "079b5da6",
   "metadata": {},
   "outputs": [],
   "source": [
    "# 💡 Explanation: Add your code comments below for clarity.\n",
    "model.boundary[len(model.boundary)-1]"
   ]
  },
  {
   "cell_type": "markdown",
   "id": "b8c61258",
   "metadata": {},
   "source": [
    "### Model objective\n",
    "\n",
    "The model has different biomass reactions:\n",
    "\n",
    " - Bio_opt   growth under light limiting conditions\n",
    " - Bio_NLim  growth under nitrogen limiting conditions\n",
    " - Bio_CLim  growth under carbon limiting conditions"
   ]
  },
  {
   "cell_type": "code",
   "execution_count": null,
   "id": "a70e23bc",
   "metadata": {},
   "outputs": [],
   "source": [
    "# Check the objective function and find the reaction optimized\n",
    "print(model.objective)\n",
    "\n",
    "print(model.reactions.Bio_opt.objective_coefficient)\n",
    "for r in model.reactions:\n",
    "    if r.objective_coefficient != 0:\n",
    "        print(r.id)\n",
    "        print(r.name)"
   ]
  },
  {
   "cell_type": "markdown",
   "id": "e4c4739c",
   "metadata": {},
   "source": [
    "### Task 1.2: Biomass reactions and compartments\n",
    "Have a look at the different biomass reactions listed above"
   ]
  },
  {
   "cell_type": "code",
   "execution_count": null,
   "id": "b1ded17b",
   "metadata": {},
   "outputs": [],
   "source": [
    "# TODO\n",
    "# add your code here\n"
   ]
  },
  {
   "cell_type": "markdown",
   "id": "c8cdc094",
   "metadata": {},
   "source": [
    "What is the compartment of reaction RBC_h? \\\n",
    "Which other compartments are considered in the model?"
   ]
  },
  {
   "cell_type": "code",
   "execution_count": null,
   "id": "afd34cf8",
   "metadata": {},
   "outputs": [],
   "source": [
    "# TODO \n",
    "# add your code here\n"
   ]
  },
  {
   "cell_type": "markdown",
   "id": "3a169666",
   "metadata": {},
   "source": [
    "## Part 2: Flux analysis and integration of additional constraints\n",
    "\n",
    "The current objective is to optimize biomass reactio Bio_opt. To run a flux balance analysis (FBA) and find the optimal specific growth rate you can use:\n",
    "\n",
    "    solution = model.optimize()"
   ]
  },
  {
   "cell_type": "code",
   "execution_count": null,
   "id": "3fc87de2",
   "metadata": {},
   "outputs": [],
   "source": [
    "solution = model.optimize()\n",
    "\n",
    "print(\"Objective value: %.3f\\n\" % solution.objective_value)\n",
    "print(\"Status: %s\\n\" % solution.status)\n",
    "\n",
    "print(\"Fluxes:\\n\")\n",
    "print(solution.fluxes)"
   ]
  },
  {
   "cell_type": "markdown",
   "id": "431cda8f",
   "metadata": {},
   "source": [
    "The solution obtained from FBA are usually not unique. To get flux ranges we can run flux variability analysis (FVA). "
   ]
  },
  {
   "cell_type": "code",
   "execution_count": null,
   "id": "bbf85365",
   "metadata": {},
   "outputs": [],
   "source": [
    "# run FVA, per default the range is calculated at optimum biomass, we can allow deviation by specifying\n",
    "# the percentage of optimal biomass considered (we use 99%) \n",
    "\n",
    "solution_fva_BioOpt = cobra.flux_analysis.flux_variability_analysis(model,fraction_of_optimum=0.99)\n",
    "print(solution_fva_BioOpt)"
   ]
  },
  {
   "cell_type": "markdown",
   "id": "4f8317cf",
   "metadata": {},
   "source": [
    "### Task 2.1: Inspect flux solutions\n",
    "\n",
    "Inspect the reactions 'Im_hnu', 'Im_CO2', 'Im_NO3', 'Im_NH4', 'RBC_h', 'RBO_h' \n",
    "\n",
    "- What are the reaction names that belong to the reaction id's given above? \n",
    "- What is the flux value for the reactions above obtained from FBA?\n",
    "- What is the flux range at optimal growth considering objective Bio_Opt?\n",
    "\n",
    "Given the values from FBA. What is the ratio of Rubisco carboxylation to oxygenation?"
   ]
  },
  {
   "cell_type": "code",
   "execution_count": null,
   "id": "07602919",
   "metadata": {},
   "outputs": [],
   "source": [
    "print('Im_CO2')\n",
    "print(\"FBA value: %.3f\" % solution.fluxes['Im_CO2'])\n",
    "print(\"FVA min value: %.3f\" % solution_fva_BioOpt.minimum['Im_CO2'])\n",
    "print(\"FVA max value: %.3f\\n\" % solution_fva_BioOpt.maximum['Im_CO2'])\n",
    "\n",
    "# TODO\n",
    "# add your code here\n",
    "\n"
   ]
  },
  {
   "cell_type": "markdown",
   "id": "f544c7f2",
   "metadata": {},
   "source": [
    "### Adding ratio constraints for improved predicitions"
   ]
  },
  {
   "cell_type": "code",
   "execution_count": null,
   "id": "78f06884",
   "metadata": {},
   "outputs": [],
   "source": [
    "# How can we improve this?\n",
    "\n",
    "# We can add constraints restricting the ratio to physiological ratios\n",
    "# 1.5 <= RBC_h/RBO_h <= 4\n",
    "\n",
    "# constraint 1: 0 <= RBC_h - 1.5*RBO_h\n",
    "# constraint 2: RBC_h - 4*RBO_h <= 0\n",
    "c1 = model.problem.Constraint(model.reactions.RBC_h.flux_expression - 1.5 * model.reactions.RBO_h.flux_expression, lb=0)  \n",
    "c2 = model.problem.Constraint(model.reactions.RBC_h.flux_expression - 4 * model.reactions.RBO_h.flux_expression, ub=0) \n",
    "\n",
    "model.add_cons_vars([c1, c2])"
   ]
  },
  {
   "cell_type": "markdown",
   "id": "b52a3a93",
   "metadata": {},
   "source": [
    "### Task 2.2: Flux analysis under new constraints\n",
    "\n",
    "What is the maximal growth rate when the additional constraints are considered?\n",
    "Calculate flux ranges considering at least 99% of the optimum biomass flux. \n"
   ]
  },
  {
   "cell_type": "code",
   "execution_count": null,
   "id": "33f468d2",
   "metadata": {},
   "outputs": [],
   "source": [
    "# TODO\n",
    "# add your code here\n"
   ]
  },
  {
   "cell_type": "markdown",
   "id": "720a9c73",
   "metadata": {},
   "source": [
    "### Task 2.3: What is the prediced storage rate of starch (reaction id: Ex_starch)?"
   ]
  },
  {
   "cell_type": "code",
   "execution_count": null,
   "id": "a0acaf20",
   "metadata": {},
   "outputs": [],
   "source": [
    "model.reactions.Ex_starch"
   ]
  },
  {
   "cell_type": "code",
   "execution_count": null,
   "id": "cf6bc4eb",
   "metadata": {},
   "outputs": [],
   "source": [
    "# TODO\n",
    "# add your code here\n"
   ]
  },
  {
   "cell_type": "code",
   "execution_count": null,
   "id": "1e146cf2",
   "metadata": {},
   "outputs": [],
   "source": [
    "# set the flux of starch storage to at least 0.2 mmol/gDW/h and rerun FBA and FVA\n",
    "model.reactions.Ex_starch.lower_bound = 0.2\n",
    "\n",
    "solution_starch_export_on = model.optimize()\n",
    "solution_fva_starch_export_on = cobra.flux_analysis.flux_variability_analysis(model,fraction_of_optimum=0.99)\n",
    "solution_starch_export_on.fluxes['Ex_starch']\n"
   ]
  },
  {
   "cell_type": "markdown",
   "id": "31a8be42",
   "metadata": {},
   "source": [
    "### Task 2.4: Flux comparison\n",
    "\n",
    "- Compare the biomass predictions obtained from FBA.\n",
    "- Compare the flux ranges. To this end we want to identify reactions whose flux ranges do not overlap in the two scenarios. \n",
    "- Find the reactions with the largest changes."
   ]
  },
  {
   "cell_type": "code",
   "execution_count": null,
   "id": "f9106158",
   "metadata": {},
   "outputs": [],
   "source": [
    "import pandas as pd\n",
    "\n",
    "fva_df = pd.DataFrame({\n",
    "    \"min1\": solution_fva_co_ratio_constr[\"minimum\"],\n",
    "    \"max1\": solution_fva_co_ratio_constr[\"maximum\"],\n",
    "    \"min2\": solution_fva_starch_export_on[\"minimum\"],\n",
    "    \"max2\": solution_fva_starch_export_on[\"maximum\"]\n",
    "})\n",
    "\n",
    "# TODO\n",
    "# add your code here\n",
    "\n"
   ]
  }
 ],
 "metadata": {
  "kernelspec": {
   "display_name": "Python 3",
   "language": "python",
   "name": "python3"
  },
  "language_info": {
   "codemirror_mode": {
    "name": "ipython",
    "version": 3
   },
   "file_extension": ".py",
   "mimetype": "text/x-python",
   "name": "python",
   "nbconvert_exporter": "python",
   "pygments_lexer": "ipython3",
   "version": "3.11.9"
  }
 },
 "nbformat": 4,
 "nbformat_minor": 5
}
